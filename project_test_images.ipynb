{
 "cells": [
  {
   "cell_type": "code",
   "execution_count": 1,
   "id": "25918034",
   "metadata": {},
   "outputs": [],
   "source": [
    "from tensorflow.keras.applications.mobilenet_v2 import preprocess_input\n",
    "from tensorflow.keras.preprocessing.image import img_to_array\n",
    "from tensorflow.keras.models import load_model\n",
    "import numpy as np\n",
    "import cv2\n",
    "import os"
   ]
  },
  {
   "cell_type": "code",
   "execution_count": 2,
   "id": "4e16e456",
   "metadata": {},
   "outputs": [],
   "source": [
    "prototxtPath=os.path.sep.join([r'F:\\Data_Science_ML\\Mask_detection_project\\face_detection','deploy.prototxt'])\n",
    "weightsPath=os.path.sep.join([r'F:\\Data_Science_ML\\Mask_detection_project\\face_detection','res10_300x300_ssd_iter_140000.caffemodel'])\n"
   ]
  },
  {
   "cell_type": "code",
   "execution_count": 3,
   "id": "7236b810",
   "metadata": {},
   "outputs": [
    {
     "data": {
      "text/plain": [
       "'F:\\\\Data_Science_ML\\\\Mask_detection_project\\\\face_detection\\\\deploy.prototxt'"
      ]
     },
     "execution_count": 3,
     "metadata": {},
     "output_type": "execute_result"
    }
   ],
   "source": [
    "prototxtPath"
   ]
  },
  {
   "cell_type": "code",
   "execution_count": 4,
   "id": "8117c73b",
   "metadata": {},
   "outputs": [
    {
     "data": {
      "text/plain": [
       "'F:\\\\Data_Science_ML\\\\Mask_detection_project\\\\face_detection\\\\res10_300x300_ssd_iter_140000.caffemodel'"
      ]
     },
     "execution_count": 4,
     "metadata": {},
     "output_type": "execute_result"
    }
   ],
   "source": [
    "weightsPath"
   ]
  },
  {
   "cell_type": "code",
   "execution_count": 5,
   "id": "5fd5f396",
   "metadata": {},
   "outputs": [],
   "source": [
    "net=cv2.dnn.readNet(prototxtPath,weightsPath)"
   ]
  },
  {
   "cell_type": "code",
   "execution_count": 6,
   "id": "377104db",
   "metadata": {},
   "outputs": [
    {
     "data": {
      "text/plain": [
       "<dnn_Net 0000020F26D54D10>"
      ]
     },
     "execution_count": 6,
     "metadata": {},
     "output_type": "execute_result"
    }
   ],
   "source": [
    "net"
   ]
  },
  {
   "cell_type": "code",
   "execution_count": 7,
   "id": "67534c5b",
   "metadata": {},
   "outputs": [],
   "source": [
    "model=load_model(r'F:\\Data_Science_ML\\Mask_detection_project\\mobilenet_v2.model')"
   ]
  },
  {
   "cell_type": "code",
   "execution_count": 8,
   "id": "d46f4520",
   "metadata": {},
   "outputs": [],
   "source": [
    "image=cv2.imread(r'F:/Data_Science_ML/Mask_detection_project/examples/example_01.png')"
   ]
  },
  {
   "cell_type": "code",
   "execution_count": 9,
   "id": "58ee5579",
   "metadata": {},
   "outputs": [
    {
     "data": {
      "text/plain": [
       "array([[[186, 183, 145],\n",
       "        [186, 184, 144],\n",
       "        [186, 184, 144],\n",
       "        ...,\n",
       "        [223, 220, 215],\n",
       "        [223, 220, 215],\n",
       "        [223, 220, 215]],\n",
       "\n",
       "       [[184, 183, 145],\n",
       "        [184, 183, 145],\n",
       "        [184, 183, 145],\n",
       "        ...,\n",
       "        [223, 220, 215],\n",
       "        [223, 220, 215],\n",
       "        [223, 220, 215]],\n",
       "\n",
       "       [[182, 181, 146],\n",
       "        [182, 181, 146],\n",
       "        [183, 182, 144],\n",
       "        ...,\n",
       "        [223, 220, 215],\n",
       "        [223, 220, 215],\n",
       "        [223, 220, 215]],\n",
       "\n",
       "       ...,\n",
       "\n",
       "       [[ 90,  87,  77],\n",
       "        [ 90,  87,  77],\n",
       "        [ 91,  88,  78],\n",
       "        ...,\n",
       "        [106, 102,  96],\n",
       "        [106, 102,  96],\n",
       "        [106, 102,  96]],\n",
       "\n",
       "       [[ 90,  87,  77],\n",
       "        [ 91,  88,  78],\n",
       "        [ 91,  88,  78],\n",
       "        ...,\n",
       "        [105, 101,  95],\n",
       "        [105, 101,  95],\n",
       "        [105, 101,  95]],\n",
       "\n",
       "       [[ 90,  87,  77],\n",
       "        [ 91,  88,  78],\n",
       "        [ 91,  88,  78],\n",
       "        ...,\n",
       "        [104, 100,  94],\n",
       "        [104, 100,  94],\n",
       "        [104, 100,  94]]], dtype=uint8)"
      ]
     },
     "execution_count": 9,
     "metadata": {},
     "output_type": "execute_result"
    }
   ],
   "source": [
    "image"
   ]
  },
  {
   "cell_type": "code",
   "execution_count": 10,
   "id": "b0d21380",
   "metadata": {},
   "outputs": [],
   "source": [
    "(h,w)=image.shape[:2]"
   ]
  },
  {
   "cell_type": "code",
   "execution_count": 11,
   "id": "dafcbbf4",
   "metadata": {},
   "outputs": [
    {
     "data": {
      "text/plain": [
       "500"
      ]
     },
     "execution_count": 11,
     "metadata": {},
     "output_type": "execute_result"
    }
   ],
   "source": [
    "h"
   ]
  },
  {
   "cell_type": "code",
   "execution_count": 12,
   "id": "88d01bed",
   "metadata": {},
   "outputs": [
    {
     "data": {
      "text/plain": [
       "600"
      ]
     },
     "execution_count": 12,
     "metadata": {},
     "output_type": "execute_result"
    }
   ],
   "source": [
    "w"
   ]
  },
  {
   "cell_type": "code",
   "execution_count": 10,
   "id": "c40bfb5b",
   "metadata": {},
   "outputs": [],
   "source": [
    "#we are preprocessing this image, resize it\n",
    "#[blobFromImage] creates 4-dimensional blob from image. Optionally resizes and crops image from center, \n",
    "#subtract mean values, scales values by scalefactor, swap Blue and Red channels.\n",
    "blob=cv2.dnn.blobFromImage(image,1.0,(300,300),(104.0,177.0,123.0))"
   ]
  },
  {
   "cell_type": "code",
   "execution_count": 11,
   "id": "ec306ca3",
   "metadata": {},
   "outputs": [
    {
     "data": {
      "text/plain": [
       "array([[[[ 81.,  81.,  76., ..., 119., 119., 119.],\n",
       "         [ 78.,  79.,  81., ..., 119., 119., 119.],\n",
       "         [ 68.,  70.,  75., ..., 118., 118., 118.],\n",
       "         ...,\n",
       "         [-13., -13., -11., ...,  -1.,   1.,   2.],\n",
       "         [-14., -13., -15., ...,   0.,   2.,   2.],\n",
       "         [-14., -13., -14., ...,  -2.,   0.,   0.]],\n",
       "\n",
       "        [[  6.,   7.,   1., ...,  43.,  43.,  43.],\n",
       "         [  4.,   5.,   6., ...,  43.,  43.,  43.],\n",
       "         [ -5.,  -2.,   0., ...,  42.,  42.,  42.],\n",
       "         ...,\n",
       "         [-89., -89., -86., ..., -76., -76., -74.],\n",
       "         [-90., -89., -90., ..., -74., -75., -75.],\n",
       "         [-90., -89., -90., ..., -76., -77., -77.]],\n",
       "\n",
       "        [[ 22.,  21.,  13., ...,  92.,  92.,  92.],\n",
       "         [ 23.,  21.,  20., ...,  92.,  92.,  92.],\n",
       "         [ 18.,  19.,  16., ...,  91.,  91.,  91.],\n",
       "         ...,\n",
       "         [-45., -45., -42., ..., -33., -28., -26.],\n",
       "         [-46., -45., -46., ..., -33., -27., -27.],\n",
       "         [-46., -45., -45., ..., -35., -29., -29.]]]], dtype=float32)"
      ]
     },
     "execution_count": 11,
     "metadata": {},
     "output_type": "execute_result"
    }
   ],
   "source": [
    "blob"
   ]
  },
  {
   "cell_type": "code",
   "execution_count": 12,
   "id": "4821483e",
   "metadata": {},
   "outputs": [
    {
     "data": {
      "text/plain": [
       "(1, 3, 300, 300)"
      ]
     },
     "execution_count": 12,
     "metadata": {},
     "output_type": "execute_result"
    }
   ],
   "source": [
    "blob.shape"
   ]
  },
  {
   "cell_type": "code",
   "execution_count": 13,
   "id": "04d873df",
   "metadata": {},
   "outputs": [],
   "source": [
    "net.setInput(blob)\n",
    "detections=net.forward()"
   ]
  },
  {
   "cell_type": "code",
   "execution_count": 14,
   "id": "2f68cdb2",
   "metadata": {},
   "outputs": [
    {
     "data": {
      "text/plain": [
       "array([[[[0.        , 1.        , 0.9984427 , ..., 0.12488028,\n",
       "          0.6709176 , 0.3542412 ],\n",
       "         [0.        , 1.        , 0.12920395, ..., 3.9990287 ,\n",
       "          4.8382664 , 4.984081  ],\n",
       "         [0.        , 1.        , 0.12446587, ..., 3.994579  ,\n",
       "          0.85450625, 4.978922  ],\n",
       "         ...,\n",
       "         [0.        , 0.        , 0.        , ..., 0.        ,\n",
       "          0.        , 0.        ],\n",
       "         [0.        , 0.        , 0.        , ..., 0.        ,\n",
       "          0.        , 0.        ],\n",
       "         [0.        , 0.        , 0.        , ..., 0.        ,\n",
       "          0.        , 0.        ]]]], dtype=float32)"
      ]
     },
     "execution_count": 14,
     "metadata": {},
     "output_type": "execute_result"
    }
   ],
   "source": [
    "detections"
   ]
  },
  {
   "cell_type": "code",
   "execution_count": 18,
   "id": "c53edf26",
   "metadata": {},
   "outputs": [
    {
     "data": {
      "text/plain": [
       "(1, 1, 200, 7)"
      ]
     },
     "execution_count": 18,
     "metadata": {},
     "output_type": "execute_result"
    }
   ],
   "source": [
    "detections.shape"
   ]
  },
  {
   "cell_type": "code",
   "execution_count": 19,
   "id": "a0bf45ee",
   "metadata": {},
   "outputs": [],
   "source": [
    "#loop over the detections\n",
    "for i in range(0,detections.shape[2]):\n",
    "    confidence=detections[0,0,i,2]\n",
    "    if confidence>0.5:\n",
    "        #we need the XY coordinates\n",
    "        \n",
    "        box=detections[0,0,i,3:7]*np.array([w,h,w,h])\n",
    "        (startX,startY,endX,endY)=box.astype('int')\n",
    "        \n",
    "        #ensure the bounding boxes fall within dimensions of the frame\n",
    "        \n",
    "        (startX,startY)=(max(0,startX),max(0,startY))\n",
    "        (endX,endY)=(min(w-1,endX),min(h-1,endY))\n",
    "        \n",
    "        #extract face ROI, covert it from BGR to RGB channel, resize it to (224,224) and preprocess it.\n",
    "        face=image[startY:endY,startX:endX]\n",
    "        face=cv2.cvtColor(face,cv2.COLOR_BGR2RGB)\n",
    "        face=cv2.resize(face,(224,224))\n",
    "        face=img_to_array(face)\n",
    "        face=preprocess_input(face)\n",
    "        face=np.expand_dims(face,axis=0)\n",
    "        \n",
    "        (mask,withoutMask)=model.predict(face)[0]\n",
    "        \n",
    "        #determine the class label and color we will use to draw the bounding box and text\n",
    "        label='Mask' if mask>withoutMask else 'No Mask'\n",
    "        color=(0,255,0) if label=='Mask' else (0,0,255)\n",
    "        \n",
    "        #include the probability in the label\\\n",
    "        label=\"{}:{:,.2f}%\".format(label,max(mask,withoutMask)*100)\n",
    "        \n",
    "        # display the label and bounding boxes\n",
    "        cv2.putText(image,label,(startX,startY-10),cv2.FONT_HERSHEY_SIMPLEX,0.45,color,2)\n",
    "        cv2.rectangle(image,(startX,startY),(endX,endY),color,2)\n",
    "        \n",
    "cv2.imshow(\"OutPut\",image)\n",
    "cv2.waitKey(0)\n",
    "cv2.destroyAllWindows()"
   ]
  },
  {
   "cell_type": "code",
   "execution_count": null,
   "id": "3d3304ad",
   "metadata": {},
   "outputs": [],
   "source": []
  }
 ],
 "metadata": {
  "kernelspec": {
   "display_name": "Python 3",
   "language": "python",
   "name": "python3"
  },
  "language_info": {
   "codemirror_mode": {
    "name": "ipython",
    "version": 3
   },
   "file_extension": ".py",
   "mimetype": "text/x-python",
   "name": "python",
   "nbconvert_exporter": "python",
   "pygments_lexer": "ipython3",
   "version": "3.8.8"
  }
 },
 "nbformat": 4,
 "nbformat_minor": 5
}
