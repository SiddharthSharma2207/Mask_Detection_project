{
 "cells": [
  {
   "cell_type": "markdown",
   "id": "d54a7d7a",
   "metadata": {},
   "source": [
    "## we are using mobilenet_v2 model. It is very light weight. Here we have used transfer learning , where we cut the last layer and use our own layer in its place."
   ]
  },
  {
   "cell_type": "code",
   "execution_count": 1,
   "id": "a7a0c50c",
   "metadata": {},
   "outputs": [],
   "source": [
    "import numpy as np\n",
    "import os # to access dataset\n",
    "import matplotlib.pyplot as plt# to create graphs\n",
    "from imutils import paths # to access datsset\n",
    "\n",
    "#importing CNN structures\n",
    "from tensorflow.keras.applications import MobileNetV2\n",
    "from tensorflow.keras.layers import AveragePooling2D\n",
    "from tensorflow.keras.layers import Dropout\n",
    "from tensorflow.keras.layers import Flatten\n",
    "from tensorflow.keras.layers import Dense\n",
    "from tensorflow.keras.layers import Input\n",
    "from tensorflow.keras.models import Model\n",
    "from tensorflow.keras.optimizers import Adam# the gradient descent function\n",
    "#we need to preprocees data before using mobilenet\n",
    "from tensorflow.keras.applications.mobilenet_v2 import preprocess_input\n",
    "\n",
    "\n",
    "from tensorflow.keras.preprocessing.image import ImageDataGenerator#to augment data\n",
    "from tensorflow.keras.preprocessing.image import img_to_array# to covert images to array\n",
    "from tensorflow.keras.preprocessing.image import  load_img\n",
    "from tensorflow.keras.utils import to_categorical\n",
    "from sklearn.preprocessing import LabelBinarizer# to conert labels into form which our model can undrstand\n",
    "from sklearn.model_selection import train_test_split\n",
    "from sklearn.metrics import classification_report\n"
   ]
  },
  {
   "cell_type": "markdown",
   "id": "09b80ffb",
   "metadata": {},
   "source": [
    "# Dataset"
   ]
  },
  {
   "cell_type": "code",
   "execution_count": 2,
   "id": "b17d25e9",
   "metadata": {},
   "outputs": [],
   "source": [
    "dataset=r'F:\\Data_Science_ML\\Mask_detection_project\\Dataset'\n",
    "imagePaths=list(paths.list_images(dataset))"
   ]
  },
  {
   "cell_type": "code",
   "execution_count": null,
   "id": "e3399dcd",
   "metadata": {},
   "outputs": [],
   "source": [
    "data=[]\n",
    "labels=[]\n",
    "\n",
    "for i in imagePaths:\n",
    "    label=i.split(os.path.sep)[-2]\n",
    "    labels.append(label)\n",
    "    image=load_img(i,target_size=(224,224))#converting image to std size\n",
    "    image=img_to_array(image)\n",
    "    image=preprocess_input(image)#scaling pixcel intensities to [-1,1]\n",
    "    data.append(image)\n"
   ]
  },
  {
   "cell_type": "code",
   "execution_count": 3,
   "id": "c0fdaa07",
   "metadata": {},
   "outputs": [],
   "source": [
    "#converting lists to numpy array\n",
    "data=np.array(data,dtype='float32')\n",
    "labels=np.array(labels)"
   ]
  },
  {
   "cell_type": "code",
   "execution_count": 4,
   "id": "82163b83",
   "metadata": {},
   "outputs": [],
   "source": [
    "image=load_img(i,target_size=(224,224))#converting image to std size\n",
    "image=img_to_array(image)\n",
    "image=preprocess_input(image)"
   ]
  },
  {
   "cell_type": "code",
   "execution_count": null,
   "id": "3688ae90",
   "metadata": {},
   "outputs": [],
   "source": []
  },
  {
   "cell_type": "code",
   "execution_count": null,
   "id": "57950181",
   "metadata": {},
   "outputs": [],
   "source": []
  },
  {
   "cell_type": "code",
   "execution_count": 20,
   "id": "7a73ec72",
   "metadata": {},
   "outputs": [
    {
     "data": {
      "text/plain": [
       "(224, 224, 3)"
      ]
     },
     "execution_count": 20,
     "metadata": {},
     "output_type": "execute_result"
    }
   ],
   "source": [
    "image.shape"
   ]
  },
  {
   "cell_type": "code",
   "execution_count": 5,
   "id": "261853d6",
   "metadata": {},
   "outputs": [],
   "source": []
  },
  {
   "cell_type": "code",
   "execution_count": 6,
   "id": "55fe228e",
   "metadata": {},
   "outputs": [],
   "source": [
    "#perform hot code encoding\n",
    "lb=LabelBinarizer()\n",
    "labels=lb.fit_transform(labels)\n",
    "labels=to_categorical(labels)"
   ]
  },
  {
   "cell_type": "code",
   "execution_count": 7,
   "id": "58990a5f",
   "metadata": {},
   "outputs": [],
   "source": []
  },
  {
   "cell_type": "code",
   "execution_count": 8,
   "id": "f7d5d8fc",
   "metadata": {},
   "outputs": [
    {
     "data": {
      "text/plain": [
       "array([[0., 1.],\n",
       "       [0., 1.],\n",
       "       [0., 1.],\n",
       "       ...,\n",
       "       [1., 0.],\n",
       "       [1., 0.],\n",
       "       [1., 0.]], dtype=float32)"
      ]
     },
     "execution_count": 8,
     "metadata": {},
     "output_type": "execute_result"
    }
   ],
   "source": [
    "labels"
   ]
  },
  {
   "cell_type": "code",
   "execution_count": null,
   "id": "6dbc0ddb",
   "metadata": {},
   "outputs": [],
   "source": []
  },
  {
   "cell_type": "code",
   "execution_count": 9,
   "id": "5ba4093a",
   "metadata": {},
   "outputs": [],
   "source": [
    "#splitting data into train and test data\n",
    "# 80% data for training and 20% for testing\n",
    "X_train, X_test, y_train, y_test = train_test_split(data,labels,test_size=0.20,random_state=10,stratify=labels)"
   ]
  },
  {
   "cell_type": "code",
   "execution_count": 10,
   "id": "ec23c2d7",
   "metadata": {},
   "outputs": [
    {
     "data": {
      "text/plain": [
       "(1100, 224, 224, 3)"
      ]
     },
     "execution_count": 10,
     "metadata": {},
     "output_type": "execute_result"
    }
   ],
   "source": [
    "X_train.shape"
   ]
  },
  {
   "cell_type": "code",
   "execution_count": 11,
   "id": "4b9de8d4",
   "metadata": {},
   "outputs": [
    {
     "data": {
      "text/plain": [
       "(276, 224, 224, 3)"
      ]
     },
     "execution_count": 11,
     "metadata": {},
     "output_type": "execute_result"
    }
   ],
   "source": [
    "X_test.shape"
   ]
  },
  {
   "cell_type": "code",
   "execution_count": 12,
   "id": "e5cdf613",
   "metadata": {},
   "outputs": [],
   "source": [
    "#augment data\n",
    "aug=ImageDataGenerator(rotation_range=20,zoom_range=0.15,width_shift_range=0.2,\n",
    "                       height_shift_range=0.2,shear_range=0.15,horizontal_flip=True,\n",
    "                       vertical_flip=True,fill_mode='nearest')"
   ]
  },
  {
   "cell_type": "markdown",
   "id": "0baf06cd",
   "metadata": {},
   "source": [
    "# Designing our model"
   ]
  },
  {
   "cell_type": "code",
   "execution_count": 13,
   "id": "792f37d2",
   "metadata": {},
   "outputs": [
    {
     "name": "stdout",
     "output_type": "stream",
     "text": [
      "WARNING:tensorflow:`input_shape` is undefined or non-square, or `rows` is not in [96, 128, 160, 192, 224]. Weights for input shape (224, 224) will be loaded as the default.\n"
     ]
    }
   ],
   "source": [
    "# load the MobileNetV2 network, ensuring the head FC layer sets are\n",
    "# left off\n",
    "baseModel=MobileNetV2(weights='imagenet',include_top=False,input_tensor=Input(shape=(224,224,3)))"
   ]
  },
  {
   "cell_type": "code",
   "execution_count": null,
   "id": "0683e410",
   "metadata": {},
   "outputs": [],
   "source": [
    "# construct the head of the model that will be placed on top of the\n",
    "# the base model\n",
    "headModel=baseModel.output\n",
    "headModel=AveragePooling2D(pool_size=(7,7))(headModel)\n",
    "headModel=Flatten(name='Flatten')(headModel)#flatten the input layer into single vector\n",
    "headModel=Dense(128,activation='relu')(headModel)# adding a fully connected layer of 128 neurons \n",
    "headModel=Dropout(0.5)(headModel)# it prevents model from overfitting\n",
    "headModel=Dense(2,activation='softmax')(headModel)\n",
    "\n",
    "#placing head model on base model\n",
    "model=Model(inputs=baseModel.input,outputs=headModel)"
   ]
  },
  {
   "cell_type": "code",
   "execution_count": 14,
   "id": "fe4ca9c2",
   "metadata": {},
   "outputs": [],
   "source": []
  },
  {
   "cell_type": "code",
   "execution_count": null,
   "id": "a12b5c25",
   "metadata": {},
   "outputs": [],
   "source": []
  },
  {
   "cell_type": "code",
   "execution_count": 2,
   "id": "658a1245",
   "metadata": {},
   "outputs": [],
   "source": [
    "#model.summary()"
   ]
  },
  {
   "cell_type": "code",
   "execution_count": 15,
   "id": "9ed2c2e3",
   "metadata": {},
   "outputs": [],
   "source": [
    "#we are not going to train base model\n",
    "for layer in baseModel.layers:\n",
    "    layer.trainable=False"
   ]
  },
  {
   "cell_type": "code",
   "execution_count": 3,
   "id": "b529f83e",
   "metadata": {},
   "outputs": [],
   "source": [
    "#model.summary()"
   ]
  },
  {
   "cell_type": "code",
   "execution_count": 16,
   "id": "b5f68304",
   "metadata": {},
   "outputs": [
    {
     "name": "stdout",
     "output_type": "stream",
     "text": [
      "Epoch 1/20\n",
      "91/91 [==============================] - 19s 212ms/step - loss: 0.1846 - accuracy: 0.9228 - val_loss: 0.0529 - val_accuracy: 0.9855\n",
      "Epoch 2/20\n",
      "91/91 [==============================] - 20s 218ms/step - loss: 0.0577 - accuracy: 0.9779 - val_loss: 0.0349 - val_accuracy: 0.9855\n",
      "Epoch 3/20\n",
      "91/91 [==============================] - 20s 224ms/step - loss: 0.0442 - accuracy: 0.9853 - val_loss: 0.0357 - val_accuracy: 0.9819\n",
      "Epoch 4/20\n",
      "91/91 [==============================] - 21s 226ms/step - loss: 0.0546 - accuracy: 0.9807 - val_loss: 0.0408 - val_accuracy: 0.9819\n",
      "Epoch 5/20\n",
      "91/91 [==============================] - 21s 226ms/step - loss: 0.0432 - accuracy: 0.9798 - val_loss: 0.0451 - val_accuracy: 0.9819\n",
      "Epoch 6/20\n",
      "91/91 [==============================] - 21s 227ms/step - loss: 0.0338 - accuracy: 0.9853 - val_loss: 0.0306 - val_accuracy: 0.9891\n",
      "Epoch 7/20\n",
      "91/91 [==============================] - 21s 229ms/step - loss: 0.0409 - accuracy: 0.9835 - val_loss: 0.0335 - val_accuracy: 0.9891\n",
      "Epoch 8/20\n",
      "91/91 [==============================] - 21s 229ms/step - loss: 0.0517 - accuracy: 0.9798 - val_loss: 0.0481 - val_accuracy: 0.9855\n",
      "Epoch 9/20\n",
      "91/91 [==============================] - 21s 231ms/step - loss: 0.0205 - accuracy: 0.9926 - val_loss: 0.0326 - val_accuracy: 0.9928\n",
      "Epoch 10/20\n",
      "91/91 [==============================] - 21s 234ms/step - loss: 0.0131 - accuracy: 0.9954 - val_loss: 0.0322 - val_accuracy: 0.9928\n",
      "Epoch 11/20\n",
      "91/91 [==============================] - 22s 238ms/step - loss: 0.0294 - accuracy: 0.9871 - val_loss: 0.0404 - val_accuracy: 0.9819\n",
      "Epoch 12/20\n",
      "91/91 [==============================] - 22s 237ms/step - loss: 0.0290 - accuracy: 0.9936 - val_loss: 0.0324 - val_accuracy: 0.9928\n",
      "Epoch 13/20\n",
      "91/91 [==============================] - 22s 241ms/step - loss: 0.0730 - accuracy: 0.9835 - val_loss: 0.0369 - val_accuracy: 0.9783\n",
      "Epoch 14/20\n",
      "91/91 [==============================] - 22s 243ms/step - loss: 0.0297 - accuracy: 0.9871 - val_loss: 0.0287 - val_accuracy: 0.9891\n",
      "Epoch 15/20\n",
      "91/91 [==============================] - 22s 245ms/step - loss: 0.0286 - accuracy: 0.9881 - val_loss: 0.0364 - val_accuracy: 0.9928\n",
      "Epoch 16/20\n",
      "91/91 [==============================] - 23s 251ms/step - loss: 0.0261 - accuracy: 0.9871 - val_loss: 0.0424 - val_accuracy: 0.9928\n",
      "Epoch 17/20\n",
      "91/91 [==============================] - 28s 304ms/step - loss: 0.0325 - accuracy: 0.9871 - val_loss: 0.0465 - val_accuracy: 0.9891\n",
      "Epoch 18/20\n",
      "91/91 [==============================] - 25s 273ms/step - loss: 0.0422 - accuracy: 0.9871 - val_loss: 0.0612 - val_accuracy: 0.9746\n",
      "Epoch 19/20\n",
      "91/91 [==============================] - 24s 264ms/step - loss: 0.0090 - accuracy: 0.9982 - val_loss: 0.0601 - val_accuracy: 0.9746\n",
      "Epoch 20/20\n",
      "91/91 [==============================] - 24s 261ms/step - loss: 0.0161 - accuracy: 0.9945 - val_loss: 0.0418 - val_accuracy: 0.9928\n"
     ]
    }
   ],
   "source": [
    "#compile model\n",
    "learning_rate=0.001\n",
    "Epochs=20 # no. of times models goes through images\n",
    "BS=12 #batch size\n",
    "opt=Adam(lr=learning_rate,decay=learning_rate/Epochs)\n",
    "model.compile(loss='binary_crossentropy',optimizer=opt,metrics=['accuracy'])\n",
    "#train the head\n",
    "H=model.fit(\n",
    "    aug.flow(X_train,y_train,batch_size=BS),\n",
    "    steps_per_epoch=len(X_train)//BS,\n",
    "    validation_data=(X_test,y_test),\n",
    "    validation_steps=len(X_test)//BS,\n",
    "    epochs=Epochs)\n",
    "#serialize model on disk\n",
    "model.save(r'F:\\Data_Science_ML\\Mask_detection_project\\mobilenet_v2.model')"
   ]
  },
  {
   "cell_type": "code",
   "execution_count": 17,
   "id": "e8e4bbc1",
   "metadata": {},
   "outputs": [],
   "source": [
    "predict=model.predict(X_test,batch_size=BS)\n",
    "predict=np.argmax(predict,axis=1)\n",
    "true_val=np.argmax(y_test,axis=1)\n"
   ]
  },
  {
   "cell_type": "code",
   "execution_count": 27,
   "id": "17bb7998",
   "metadata": {},
   "outputs": [
    {
     "data": {
      "image/png": "[encoded data removed]",
      "text/plain": [
       "<Figure size 576x396 with 1 Axes>"
      ]
     },
     "metadata": {},
     "output_type": "display_data"
    }
   ],
   "source": [
    "# plot the training loss and accuracy\n",
    "N = Epochs\n",
    "plt.style.use(\"seaborn\")\n",
    "plt.figure()\n",
    "plt.plot(np.arange(0, N), H.history[\"loss\"], label=\"train_loss\")\n",
    "plt.plot(np.arange(0, N), H.history[\"val_loss\"], label=\"val_loss\")\n",
    "plt.plot(np.arange(0, N), H.history[\"accuracy\"], label=\"train_acc\")\n",
    "plt.plot(np.arange(0, N), H.history[\"val_accuracy\"], label=\"val_acc\")\n",
    "plt.title(\"Training Loss and Accuracy\")\n",
    "plt.xlabel(\"Epoch #\")\n",
    "plt.ylabel(\"Loss/Accuracy\")\n",
    "plt.legend(loc=\"lower left\")\n",
    "plt.savefig(r\"F:\\Data_Science_ML\\Mask_detection_project\\plot.png\")"
   ]
  },
  {
   "cell_type": "code",
   "execution_count": 20,
   "id": "02634133",
   "metadata": {},
   "outputs": [],
   "source": []
  },
  {
   "cell_type": "code",
   "execution_count": 21,
   "id": "a44c9f1d",
   "metadata": {},
   "outputs": [
    {
     "data": {
      "text/plain": [
       "(276,)"
      ]
     },
     "execution_count": 21,
     "metadata": {},
     "output_type": "execute_result"
    }
   ],
   "source": [
    "true_val.shape"
   ]
  },
  {
   "cell_type": "code",
   "execution_count": 22,
   "id": "3e2ebff5",
   "metadata": {},
   "outputs": [
    {
     "data": {
      "text/plain": [
       "(276,)"
      ]
     },
     "execution_count": 22,
     "metadata": {},
     "output_type": "execute_result"
    }
   ],
   "source": [
    "predict.shape"
   ]
  },
  {
   "cell_type": "code",
   "execution_count": 23,
   "id": "63d6ec4b",
   "metadata": {},
   "outputs": [
    {
     "name": "stdout",
     "output_type": "stream",
     "text": [
      "              precision    recall  f1-score   support\n",
      "\n",
      "   with_mask       0.99      0.99      0.99       138\n",
      "without_mask       0.99      0.99      0.99       138\n",
      "\n",
      "    accuracy                           0.99       276\n",
      "   macro avg       0.99      0.99      0.99       276\n",
      "weighted avg       0.99      0.99      0.99       276\n",
      "\n"
     ]
    }
   ],
   "source": [
    "print(classification_report(true_val,predict,target_names=lb.classes_))"
   ]
  },
  {
   "cell_type": "code",
   "execution_count": 42,
   "id": "7bde6a51",
   "metadata": {},
   "outputs": [
    {
     "name": "stdout",
     "output_type": "stream",
     "text": [
      "INFO:tensorflow:Assets written to: F:\\Data_Science_ML\\Mask_detection_project\\mobilenet_v2.model.\\assets\n"
     ]
    }
   ],
   "source": [
    "#model.save(r'F:\\Data_Science_ML\\Mask_detection_project\\mobilenet_v2.model.')"
   ]
  },
  {
   "cell_type": "code",
   "execution_count": null,
   "id": "e4b42d3f",
   "metadata": {},
   "outputs": [],
   "source": []
  }
 ],
 "metadata": {
  "kernelspec": {
   "display_name": "Python 3",
   "language": "python",
   "name": "python3"
  },
  "language_info": {
   "codemirror_mode": {
    "name": "ipython",
    "version": 3
   },
   "file_extension": ".py",
   "mimetype": "text/x-python",
   "name": "python",
   "nbconvert_exporter": "python",
   "pygments_lexer": "ipython3",
   "version": "3.8.8"
  }
 },
 "nbformat": 4,
 "nbformat_minor": 5
}
